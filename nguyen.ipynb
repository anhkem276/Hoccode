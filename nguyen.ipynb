{
  "nbformat": 4,
  "nbformat_minor": 0,
  "metadata": {
    "colab": {
      "provenance": [],
      "gpuType": "T4",
      "mount_file_id": "1_7QdIcekkfeyJpPz3ew76fzCC8s0n5nP",
      "authorship_tag": "ABX9TyOP4xt0WAHxO4iRboyhYca4",
      "include_colab_link": true
    },
    "kernelspec": {
      "name": "python3",
      "display_name": "Python 3"
    },
    "language_info": {
      "name": "python"
    },
    "accelerator": "GPU"
  },
  "cells": [
    {
      "cell_type": "markdown",
      "metadata": {
        "id": "view-in-github",
        "colab_type": "text"
      },
      "source": [
        "<a href=\"https://colab.research.google.com/github/anhkem276/Hoccode/blob/main/nguyen.ipynb\" target=\"_parent\"><img src=\"https://colab.research.google.com/assets/colab-badge.svg\" alt=\"Open In Colab\"/></a>"
      ]
    },
    {
      "cell_type": "code",
      "execution_count": 1,
      "metadata": {
        "colab": {
          "base_uri": "https://localhost:8080/"
        },
        "id": "ZQS0IJndXV2p",
        "outputId": "fd3e7229-bef4-43c4-ef3b-1e671cdfd312"
      },
      "outputs": [
        {
          "output_type": "stream",
          "name": "stdout",
          "text": [
            "Giải phương trình bậc 2: ax^2 + bx + c = 0\n",
            "Nhập a: 1\n",
            "Nhập b: 2\n",
            "Nhập c: 1\n",
            "Phương trình có 1 nghiệm x =  -1.0\n"
          ]
        }
      ],
      "source": [
        "from math import sqrt\n",
        "\n",
        "print(\"Giải phương trình bậc 2: ax^2 + bx + c = 0\")\n",
        "a = float(input(\"Nhập a: \"))\n",
        "b = float(input(\"Nhập b: \"))\n",
        "c = float(input(\"Nhập c: \"))\n",
        "\n",
        "if a == 0:\n",
        "    if b == 0:\n",
        "        if c == 0:\n",
        "            print(\"Phương trình vô số nghiệm!\")\n",
        "        else:\n",
        "            print(\"Phương trình vô nghiệm!\")\n",
        "    else:\n",
        "        if c == 0:\n",
        "            print(\"Phương trình có 1 nghiệm x = 0\")\n",
        "        else:\n",
        "            print(\"Phương trình có 1 nghiệm x = \", -c / b)\n",
        "else:\n",
        "    delta = b ** 2 - 4 * a * c\n",
        "    if delta < 0:\n",
        "        print(\"Phương trình vô nghiệm!\")\n",
        "    elif delta == 0:\n",
        "        print(\"Phương trình có 1 nghiệm x = \", -b / (2 * a))\n",
        "    else:\n",
        "        print(\"Phương trình có 2 nghiệm phân biệt!\")\n",
        "        print(\"x1 = \", float((-b - sqrt(delta)) / (2 * a)))\n",
        "        print(\"x2 = \", float((-b + sqrt(delta)) / (2 * a)))"
      ]
    }
  ]
}